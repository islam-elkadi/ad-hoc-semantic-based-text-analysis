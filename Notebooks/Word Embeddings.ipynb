{
 "cells": [
  {
   "cell_type": "markdown",
   "metadata": {},
   "source": [
    "# Imports"
   ]
  },
  {
   "cell_type": "code",
   "execution_count": 2,
   "metadata": {},
   "outputs": [],
   "source": [
    "from itertools import product\n",
    "from gensim.models.fasttext import FastText as FT"
   ]
  },
  {
   "cell_type": "markdown",
   "metadata": {},
   "source": [
    "# Model"
   ]
  },
  {
   "cell_type": "markdown",
   "metadata": {},
   "source": [
    "**Grid Search**"
   ]
  },
  {
   "cell_type": "code",
   "execution_count": null,
   "metadata": {},
   "outputs": [],
   "source": [
    "model_gensim = FT(sentences=None,\n",
    "                  corpus_file=None,\n",
    "                  sg=0,\n",
    "                  hs=0,\n",
    "                  size=100,\n",
    "                  alpha=0.025,\n",
    "                  window=5,\n",
    "                  min_count=5,\n",
    "                  max_vocab_size=None,\n",
    "                  word_ngrams=1,\n",
    "                  sample=0.001,\n",
    "                  seed=1,\n",
    "                  workers=3,\n",
    "                  min_alpha=0.0001,\n",
    "                  negative=5,\n",
    "                  ns_exponent=0.75,\n",
    "                  cbow_mean=1,\n",
    "                  iter=5,\n",
    "                  null_word=0,\n",
    "                  min_n=3,\n",
    "                  max_n=6,\n",
    "                  sorted_vocab=1,\n",
    "                  bucket=2000000,\n",
    "                  trim_rule=None,\n",
    "                  batch_words=10000,\n",
    "                  compatible_hash=True)"
   ]
  },
  {
   "cell_type": "code",
   "execution_count": null,
   "metadata": {},
   "outputs": [],
   "source": [
    "# build the vocabulary\n",
    "model_gensim.build_vocab(corpus_file=corpus_file)\n",
    "\n",
    "# train the model\n",
    "model_gensim.train(\n",
    "    corpus_file=corpus_file, \n",
    "    epochs=model_gensim.epochs,\n",
    "    total_examples=model_gensim.corpus_count, \n",
    "    total_words=model_gensim.corpus_total_words\n",
    ")"
   ]
  },
  {
   "cell_type": "code",
   "execution_count": null,
   "metadata": {},
   "outputs": [],
   "source": [
    "# saving a model trained via Gensim's fastText implementation\n",
    "model_gensim.save('saved_model_gensim')\n",
    "loaded_model = FT_gensim.load('saved_model_gensim')\n",
    "print(loaded_model)\n",
    "\n",
    "# saving a model trained via fastText wrapper\n",
    "model_wrapper.save('saved_model_wrapper')\n",
    "loaded_model = FT_wrapper.load('saved_model_wrapper')\n",
    "print(loaded_model)"
   ]
  }
 ],
 "metadata": {
  "kernelspec": {
   "display_name": "Python 3",
   "language": "python",
   "name": "python3"
  },
  "language_info": {
   "codemirror_mode": {
    "name": "ipython",
    "version": 3
   },
   "file_extension": ".py",
   "mimetype": "text/x-python",
   "name": "python",
   "nbconvert_exporter": "python",
   "pygments_lexer": "ipython3",
   "version": "3.6.8"
  }
 },
 "nbformat": 4,
 "nbformat_minor": 2
}
